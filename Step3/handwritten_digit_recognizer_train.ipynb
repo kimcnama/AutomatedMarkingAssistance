{
 "cells": [
  {
   "cell_type": "code",
   "execution_count": 59,
   "metadata": {},
   "outputs": [
    {
     "data": {
      "text/plain": [
       "'1.12.0'"
      ]
     },
     "execution_count": 59,
     "metadata": {},
     "output_type": "execute_result"
    }
   ],
   "source": [
    "%matplotlib inline\n",
    "import matplotlib.pyplot as plt\n",
    "import tensorflow as tf\n",
    "import numpy as np\n",
    "from sklearn.metrics import confusion_matrix\n",
    "import time\n",
    "from datetime import timedelta\n",
    "import math\n",
    "tf.__version__"
   ]
  },
  {
   "cell_type": "markdown",
   "metadata": {},
   "source": [
    "mnist\n"
   ]
  },
  {
   "cell_type": "code",
   "execution_count": 60,
   "metadata": {},
   "outputs": [
    {
     "name": "stdout",
     "output_type": "stream",
     "text": [
      "Extracting ./model_data/train-images-idx3-ubyte.gz\n",
      "Extracting ./model_data/train-labels-idx1-ubyte.gz\n",
      "Extracting ./model_data/t10k-images-idx3-ubyte.gz\n",
      "Extracting ./model_data/t10k-labels-idx1-ubyte.gz\n"
     ]
    }
   ],
   "source": [
    "#from python-mnist import MNIST\n",
    "from tensorflow.examples.tutorials.mnist import input_data\n",
    "data = input_data.read_data_sets('./model_data', one_hot=True)"
   ]
  },
  {
   "cell_type": "code",
   "execution_count": 61,
   "metadata": {},
   "outputs": [
    {
     "name": "stdout",
     "output_type": "stream",
     "text": [
      "Size of:\n",
      "- Training-set:\t\t55000\n",
      "- Validation-set:\t10000\n",
      "- Test-set:\t\t5000\n"
     ]
    }
   ],
   "source": [
    "print(\"Size of:\")\n",
    "print(\"- Training-set:\\t\\t{}\".format(len(data.train.labels)))\n",
    "print(\"- Validation-set:\\t{}\".format(len(data.test.labels)))\n",
    "print(\"- Test-set:\\t\\t{}\".format(len(data.validation.labels)))"
   ]
  },
  {
   "cell_type": "code",
   "execution_count": 62,
   "metadata": {},
   "outputs": [],
   "source": [
    "data.test.cls = np.argmax(data.test.labels, axis=1)"
   ]
  },
  {
   "cell_type": "code",
   "execution_count": 63,
   "metadata": {},
   "outputs": [],
   "source": [
    "img_size = 28\n",
    "\n",
    "img_size_flat = 28*28\n",
    "\n",
    "img_shape = (img_size,img_size)\n",
    "\n",
    "num_channels = 1\n",
    "\n",
    "num_classes = 10"
   ]
  },
  {
   "cell_type": "code",
   "execution_count": 64,
   "metadata": {},
   "outputs": [],
   "source": [
    "#helper function to plot images\n",
    "def plot_images(images, cls_true, cls_pred=None):\n",
    "    assert len(images) == len(cls_true) == 9\n",
    "    \n",
    "    #create figure with 3x3 sub-plots\n",
    "    fig, axes = plt.subplots(3, 3)\n",
    "    fig.subplots_adjust(hspace=0.3, wspace=0.3)\n",
    "    \n",
    "    for i, ax in enumerate(axes.flat):\n",
    "        ax.imshow(images[i].reshape(img_shape), cmap='binary')\n",
    "        \n",
    "        if cls_pred is None:\n",
    "            xlabel = \"True: {0}\".format(cls_true[i])\n",
    "        else:\n",
    "            xlabel = \"True: {0}, Pred {1}\".format(cls_true[i], cls_pred[i])\n",
    "            \n",
    "        ax.set_xlabel(xlabel)\n",
    "        \n",
    "        # Remove ticks from the plot.\n",
    "        ax.set_xticks([])\n",
    "        ax.set_yticks([])\n",
    "        \n",
    "    plt.show()"
   ]
  },
  {
   "cell_type": "code",
   "execution_count": 65,
   "metadata": {},
   "outputs": [
    {
     "data": {
      "image/png": "[encoded data removed]",
      "text/plain": [
       "<Figure size 432x288 with 9 Axes>"
      ]
     },
     "metadata": {},
     "output_type": "display_data"
    },
    {
     "data": {
      "text/plain": [
       "array([7, 2, 1, 0, 4, 1, 4, 9, 5])"
      ]
     },
     "execution_count": 65,
     "metadata": {},
     "output_type": "execute_result"
    }
   ],
   "source": [
    "images = data.test.images[0:9]\n",
    "\n",
    "cls_true = data.test.cls[0:9]\n",
    "\n",
    "plot_images(images=images, cls_true=cls_true)\n",
    "cls_true"
   ]
  },
  {
   "cell_type": "code",
   "execution_count": 66,
   "metadata": {},
   "outputs": [],
   "source": [
    "#initializing graph with random weights\n",
    "def new_weights(shape):\n",
    "    return tf.Variable(tf.truncated_normal(shape, stddev=0.05))\n",
    "\n",
    "def new_biases(length):\n",
    "    return tf.Variable(tf.constant(0.05, shape=[length]))"
   ]
  },
  {
   "cell_type": "code",
   "execution_count": 67,
   "metadata": {},
   "outputs": [],
   "source": [
    "#helper function to create new CNN layer as tensorflow is complicated\n",
    "def new_conv_layer(input,  #prev layer\n",
    "                   num_input_channels, #n channels from prev layer\n",
    "                   filter_size,        #width and height\n",
    "                   num_filters,\n",
    "                   use_pooling=True,    #use 2x2 max pooling\n",
    "                   use_dropout=False\n",
    "                  ):\n",
    "    #shape of filter weights for conv\n",
    "    #this format determined by TensorFlow API\n",
    "    shape = [filter_size, filter_size,num_input_channels, num_filters]\n",
    "    \n",
    "    weights = new_weights(shape=shape)\n",
    "    \n",
    "    biases = new_biases(length=num_filters)\n",
    "    \n",
    "    layer = tf.nn.conv2d(input=input, \n",
    "                        filter=weights,\n",
    "                        strides=[1,1,1,1],\n",
    "                        padding='SAME')\n",
    "    layer += biases\n",
    "    \n",
    "    if use_pooling:\n",
    "        layer = tf.nn.max_pool(value=layer,\n",
    "                              ksize=[1,2,2,1],\n",
    "                              strides=[1,2,2,1],\n",
    "                              padding='SAME')\n",
    "    \n",
    "    layer = tf.nn.relu(layer)\n",
    "    \n",
    "    if use_dropout:\n",
    "        layer = tf.nn.dropout(layer, 0.1)\n",
    "    \n",
    "    return layer, weights"
   ]
  },
  {
   "cell_type": "code",
   "execution_count": 68,
   "metadata": {},
   "outputs": [],
   "source": [
    "def flatten_layer(layer):\n",
    "\n",
    "    layer_shape = layer.get_shape()\n",
    "    \n",
    "    num_features = np.array(layer_shape[1:4], dtype=int).prod()\n",
    "    \n",
    "    layer_flat = tf.reshape(layer, [-1, num_features])\n",
    "    \n",
    "    return layer_flat, num_features\n",
    "    "
   ]
  },
  {
   "cell_type": "code",
   "execution_count": 69,
   "metadata": {},
   "outputs": [],
   "source": [
    "def new_fc_layer(input, \n",
    "                num_inputs,\n",
    "                num_outputs,\n",
    "                use_relu=True):\n",
    "    weights=new_weights(shape=[num_inputs, num_outputs])\n",
    "    biases = new_biases(length=num_outputs)\n",
    "    \n",
    "    layer = tf.matmul(input, weights) + biases\n",
    "    \n",
    "    if use_relu:\n",
    "        layer = tf.nn.relu(layer)\n",
    "        \n",
    "    return layer"
   ]
  },
  {
   "cell_type": "code",
   "execution_count": 75,
   "metadata": {},
   "outputs": [],
   "source": [
    "# Convolutional Layer 1.\n",
    "filter_size1 = 5          # Convolution filters are 5 x 5 pixels.\n",
    "num_filters1 = 16         # There are 16 of these filters.\n",
    "\n",
    "# Convolutional Layer 2.\n",
    "filter_size2 = 5          # Convolution filters are 5 x 5 pixels.\n",
    "num_filters2 = 36         # There are 36 of these filters.\n",
    "\n",
    "# Convolutional Layer 3.\n",
    "filter_size3 = 3          # Convolution filters are 5 x 5 pixels.\n",
    "num_filters3 = 64         # There are 36 of these filters."
   ]
  },
  {
   "cell_type": "code",
   "execution_count": 76,
   "metadata": {},
   "outputs": [],
   "source": [
    "x = tf.placeholder(tf.float32, shape=[None, img_size_flat], name='x')"
   ]
  },
  {
   "cell_type": "code",
   "execution_count": 77,
   "metadata": {},
   "outputs": [],
   "source": [
    "x_image = tf.reshape(x, [-1, img_size, img_size, num_channels])"
   ]
  },
  {
   "cell_type": "code",
   "execution_count": 78,
   "metadata": {},
   "outputs": [],
   "source": [
    "y_true = tf.placeholder(tf.float32, shape=[None, 10], name='y_true')"
   ]
  },
  {
   "cell_type": "code",
   "execution_count": 79,
   "metadata": {},
   "outputs": [],
   "source": [
    "y_true_cls = tf.argmax(y_true, dimension=1)"
   ]
  },
  {
   "cell_type": "code",
   "execution_count": 80,
   "metadata": {},
   "outputs": [],
   "source": [
    "layer_conv1, weights_conv1 = new_conv_layer(input=x_image,\n",
    "                                           num_input_channels=num_channels,\n",
    "                                           filter_size=filter_size1,\n",
    "                                           num_filters=num_filters1,\n",
    "                                           use_pooling=True,\n",
    "                                           use_dropout=False)"
   ]
  },
  {
   "cell_type": "code",
   "execution_count": 81,
   "metadata": {},
   "outputs": [
    {
     "data": {
      "text/plain": [
       "<tf.Tensor 'Relu_6:0' shape=(?, 14, 14, 16) dtype=float32>"
      ]
     },
     "execution_count": 81,
     "metadata": {},
     "output_type": "execute_result"
    }
   ],
   "source": [
    "layer_conv1"
   ]
  },
  {
   "cell_type": "code",
   "execution_count": 82,
   "metadata": {},
   "outputs": [],
   "source": [
    "layer_conv2, weights_conv2 = new_conv_layer(input=layer_conv1,\n",
    "                                           num_input_channels=num_filters1,\n",
    "                                           filter_size=filter_size2,\n",
    "                                           num_filters=num_filters2,\n",
    "                                           use_pooling=True, \n",
    "                                           use_dropout=False)"
   ]
  },
  {
   "cell_type": "code",
   "execution_count": 83,
   "metadata": {},
   "outputs": [
    {
     "data": {
      "text/plain": [
       "<tf.Tensor 'Relu_7:0' shape=(?, 7, 7, 36) dtype=float32>"
      ]
     },
     "execution_count": 83,
     "metadata": {},
     "output_type": "execute_result"
    }
   ],
   "source": [
    "layer_conv2"
   ]
  },
  {
   "cell_type": "code",
   "execution_count": 84,
   "metadata": {},
   "outputs": [],
   "source": [
    "layer_conv3, weights_conv3 = new_conv_layer(input=layer_conv2,\n",
    "                                           num_input_channels=num_filters2,\n",
    "                                           filter_size=filter_size3,\n",
    "                                           num_filters=num_filters3,\n",
    "                                           use_pooling=True, \n",
    "                                           use_dropout=False)"
   ]
  },
  {
   "cell_type": "code",
   "execution_count": 85,
   "metadata": {},
   "outputs": [
    {
     "data": {
      "text/plain": [
       "<tf.Tensor 'Relu_8:0' shape=(?, 4, 4, 64) dtype=float32>"
      ]
     },
     "execution_count": 85,
     "metadata": {},
     "output_type": "execute_result"
    }
   ],
   "source": [
    "layer_conv3"
   ]
  },
  {
   "cell_type": "code",
   "execution_count": 87,
   "metadata": {},
   "outputs": [
    {
     "data": {
      "text/plain": [
       "<tf.Tensor 'Relu_9:0' shape=(?, 2, 2, 64) dtype=float32>"
      ]
     },
     "execution_count": 87,
     "metadata": {},
     "output_type": "execute_result"
    }
   ],
   "source": [
    "layer_conv4, weights_conv4 = new_conv_layer(input=layer_conv3,\n",
    "                                           num_input_channels=num_filters3,\n",
    "                                           filter_size=filter_size3,\n",
    "                                           num_filters=num_filters3,\n",
    "                                           use_pooling=True, \n",
    "                                           use_dropout=False)\n",
    "layer_conv4"
   ]
  },
  {
   "cell_type": "code",
   "execution_count": 88,
   "metadata": {},
   "outputs": [],
   "source": [
    "layer_flat, num_features = flatten_layer(layer_conv4)"
   ]
  },
  {
   "cell_type": "code",
   "execution_count": 89,
   "metadata": {},
   "outputs": [
    {
     "data": {
      "text/plain": [
       "<tf.Tensor 'Reshape_4:0' shape=(?, 256) dtype=float32>"
      ]
     },
     "execution_count": 89,
     "metadata": {},
     "output_type": "execute_result"
    }
   ],
   "source": [
    "layer_flat"
   ]
  },
  {
   "cell_type": "code",
   "execution_count": 90,
   "metadata": {},
   "outputs": [
    {
     "data": {
      "text/plain": [
       "256"
      ]
     },
     "execution_count": 90,
     "metadata": {},
     "output_type": "execute_result"
    }
   ],
   "source": [
    "num_features"
   ]
  },
  {
   "cell_type": "code",
   "execution_count": 93,
   "metadata": {},
   "outputs": [],
   "source": [
    "# Fully-connected layer.\n",
    "fc_size = 512             # Number of neurons in fully-connected layer.\n",
    "fc_size1 = 128\n",
    "fc_size2 = 64"
   ]
  },
  {
   "cell_type": "code",
   "execution_count": 94,
   "metadata": {},
   "outputs": [
    {
     "data": {
      "text/plain": [
       "<tf.Tensor 'Relu_11:0' shape=(?, 512) dtype=float32>"
      ]
     },
     "execution_count": 94,
     "metadata": {},
     "output_type": "execute_result"
    }
   ],
   "source": [
    "layer_fc1 = new_fc_layer(input=layer_flat,\n",
    "                        num_inputs=num_features,\n",
    "                        num_outputs=fc_size,\n",
    "                        use_relu=True\n",
    "                        )\n",
    "layer_fc1"
   ]
  },
  {
   "cell_type": "code",
   "execution_count": 95,
   "metadata": {},
   "outputs": [
    {
     "data": {
      "text/plain": [
       "<tf.Tensor 'Relu_12:0' shape=(?, 128) dtype=float32>"
      ]
     },
     "execution_count": 95,
     "metadata": {},
     "output_type": "execute_result"
    }
   ],
   "source": [
    "layer_fc2 = new_fc_layer(input=layer_fc1,\n",
    "                        num_inputs=fc_size,\n",
    "                        num_outputs=fc_size1,\n",
    "                        use_relu=True\n",
    "                        )\n",
    "layer_fc2"
   ]
  },
  {
   "cell_type": "code",
   "execution_count": 96,
   "metadata": {},
   "outputs": [
    {
     "data": {
      "text/plain": [
       "<tf.Tensor 'Relu_13:0' shape=(?, 64) dtype=float32>"
      ]
     },
     "execution_count": 96,
     "metadata": {},
     "output_type": "execute_result"
    }
   ],
   "source": [
    "layer_fc3 = new_fc_layer(input=layer_fc2,\n",
    "                        num_inputs=fc_size1,\n",
    "                        num_outputs=fc_size2,\n",
    "                        use_relu=True\n",
    "                        )\n",
    "layer_fc3"
   ]
  },
  {
   "cell_type": "code",
   "execution_count": 97,
   "metadata": {},
   "outputs": [
    {
     "data": {
      "text/plain": [
       "<tf.Tensor 'add_14:0' shape=(?, 10) dtype=float32>"
      ]
     },
     "execution_count": 97,
     "metadata": {},
     "output_type": "execute_result"
    }
   ],
   "source": [
    "layer_fc4 = new_fc_layer(input=layer_fc3,\n",
    "                        num_inputs=fc_size2,\n",
    "                        num_outputs=num_classes,\n",
    "                        use_relu=False)\n",
    "                        \n",
    "layer_fc4"
   ]
  },
  {
   "cell_type": "code",
   "execution_count": 98,
   "metadata": {},
   "outputs": [
    {
     "data": {
      "text/plain": [
       "'layer_fc4 = new_fc_layer(input=layer_fc3,\\n                        num_inputs=fc_size2,\\n                        num_outputs=num_classes,\\n                        use_relu=False)\\nlayer_fc4\\n'"
      ]
     },
     "execution_count": 98,
     "metadata": {},
     "output_type": "execute_result"
    }
   ],
   "source": [
    "\"\"\"layer_fc4 = new_fc_layer(input=layer_fc3,\n",
    "                        num_inputs=fc_size2,\n",
    "                        num_outputs=num_classes,\n",
    "                        use_relu=False)\n",
    "layer_fc4\n",
    "\"\"\""
   ]
  },
  {
   "cell_type": "code",
   "execution_count": 99,
   "metadata": {},
   "outputs": [],
   "source": [
    "y_pred = tf.nn.softmax(layer_fc4)"
   ]
  },
  {
   "cell_type": "code",
   "execution_count": 100,
   "metadata": {},
   "outputs": [],
   "source": [
    "y_pred_cls = tf.argmax(y_pred, dimension=1)"
   ]
  },
  {
   "cell_type": "code",
   "execution_count": 101,
   "metadata": {},
   "outputs": [],
   "source": [
    "cross_entropy = tf.nn.softmax_cross_entropy_with_logits(logits=layer_fc4, labels=y_true)"
   ]
  },
  {
   "cell_type": "code",
   "execution_count": 102,
   "metadata": {},
   "outputs": [],
   "source": [
    "cost = tf.reduce_mean(cross_entropy)"
   ]
  },
  {
   "cell_type": "code",
   "execution_count": 103,
   "metadata": {},
   "outputs": [],
   "source": [
    "optimizer = tf.train.AdamOptimizer(learning_rate=1e-4).minimize(cost) #0.0001"
   ]
  },
  {
   "cell_type": "code",
   "execution_count": 104,
   "metadata": {},
   "outputs": [],
   "source": [
    "correct_prediction = tf.equal(y_pred_cls, y_true_cls)"
   ]
  },
  {
   "cell_type": "code",
   "execution_count": 105,
   "metadata": {},
   "outputs": [],
   "source": [
    "accuracy = tf.reduce_mean(tf.cast(correct_prediction, tf.float32))"
   ]
  },
  {
   "cell_type": "code",
   "execution_count": 106,
   "metadata": {},
   "outputs": [],
   "source": [
    "session = tf.Session()"
   ]
  },
  {
   "cell_type": "code",
   "execution_count": 107,
   "metadata": {},
   "outputs": [],
   "source": [
    "session.run(tf.initialize_all_variables())"
   ]
  },
  {
   "cell_type": "code",
   "execution_count": 108,
   "metadata": {},
   "outputs": [],
   "source": [
    "train_batch_size = 64"
   ]
  },
  {
   "cell_type": "code",
   "execution_count": 109,
   "metadata": {},
   "outputs": [],
   "source": [
    "total_iterations = 0\n",
    "\n",
    "def optimize(num_iterations):\n",
    "    global total_iterations\n",
    "    \n",
    "    start_time = time.time()\n",
    "    \n",
    "    for i in range(total_iterations,\n",
    "                  total_iterations+num_iterations):\n",
    "        x_batch, y_true_batch = data.train.next_batch(train_batch_size)\n",
    "        \n",
    "        feed_dict_train = {x: x_batch,\n",
    "                          y_true: y_true_batch}\n",
    "        \n",
    "        session.run(optimizer, feed_dict=feed_dict_train)\n",
    "        \n",
    "        if i%100 == 0:\n",
    "            acc = session.run(accuracy, feed_dict=feed_dict_train)\n",
    "            \n",
    "            msg = \"Optimization Iteration: {0:>6}, Training Accuracy: {1:>6.1%}\"\n",
    "            \n",
    "            print(msg.format(i+1, acc))\n",
    "            \n",
    "        total_iterations += num_iterations\n",
    "\n",
    "        end_time = time.time()\n",
    "\n",
    "        time_dif = end_time - start_time\n",
    "\n",
    "    print(\"Time usage: \" + str(timedelta(seconds=int(round(time_dif)))))\n",
    "        "
   ]
  },
  {
   "cell_type": "code",
   "execution_count": 110,
   "metadata": {},
   "outputs": [],
   "source": [
    "def plot_example_errors(cls_pred, correct):\n",
    "    \n",
    "    incorrect = (correct==False)\n",
    "    \n",
    "    images = data.test.images[incorrect]\n",
    "    \n",
    "    cls_pred = cls_pred[incorrect]\n",
    "    \n",
    "    cls_true = data.test.cls[incorrect]\n",
    "    \n",
    "    plot_images(images=images[0:9],\n",
    "               cls_true=cls_true[0:9],\n",
    "               cls_pred=cls_pred[0:9])\n",
    "    "
   ]
  },
  {
   "cell_type": "code",
   "execution_count": 111,
   "metadata": {},
   "outputs": [],
   "source": [
    "def plot_confusion_matrix(cls_pred):\n",
    "    \n",
    "    cls_true = data.test.cls\n",
    "    \n",
    "    cm = confusion_matrix(y_true=cls_true,\n",
    "                         y_pred=cls_pred)\n",
    "    \n",
    "    print(cm)\n",
    "    \n",
    "    plt.matshow(cm)\n",
    "    \n",
    "    plt.colorbar()\n",
    "    \n",
    "    tick_marks = np.arange(num_classes)\n",
    "    plt.xticks(tick_marks, range(num_classes))\n",
    "    plt.yticks(tick_marks, range(num_classes))\n",
    "    plt.xlabel('Predicted')\n",
    "    plt.ylabel('True')\n",
    "    \n",
    "    plt.show()"
   ]
  },
  {
   "cell_type": "code",
   "execution_count": 112,
   "metadata": {},
   "outputs": [],
   "source": [
    "#lower test batch size if crashes, to something like 50\n",
    "test_batch_size = 256\n",
    "\n",
    "def print_test_accuracy(show_example_errors=False,\n",
    "                       show_confusion_matrix=False):\n",
    "    \n",
    "    num_test = len(data.test.images)\n",
    "    \n",
    "    cls_pred = np.zeros(shape=num_test, dtype=np.int)\n",
    "    \n",
    "    i=0\n",
    "    \n",
    "    while i < num_test:\n",
    "        j=min(i + test_batch_size, num_test)\n",
    "        \n",
    "        #images = data.x_test[i:j, :]\n",
    "        images = data.test.images[i:j, :]\n",
    "        \n",
    "        #labels = data.y_test[i:j, :]\n",
    "        labels = data.test.labels[i:j, :]\n",
    "        \n",
    "        feed_dict = {x:images, y_true:labels}\n",
    "        \n",
    "        cls_pred[i:j] = session.run(y_pred_cls, feed_dict=feed_dict)\n",
    "        \n",
    "        i=j\n",
    "        \n",
    "    # Convenience variable for the true class-numbers of the test-set.\n",
    "    #data.test.cls = np.argmax(data.test.labels, axis=1)\n",
    "    cls_true = data.test.cls\n",
    "\n",
    "    # Create a boolean array whether each image is correctly classified.\n",
    "    correct = (cls_true == cls_pred)\n",
    "\n",
    "    # Calculate the number of correctly classified images.\n",
    "    # When summing a boolean array, False means 0 and True means 1.\n",
    "    correct_sum = correct.sum()\n",
    "\n",
    "    # Classification accuracy is the number of correctly classified\n",
    "    # images divided by the total number of images in the test-set.\n",
    "    acc = float(correct_sum) / num_test\n",
    "\n",
    "    # Print the accuracy.\n",
    "    msg = \"Accuracy on Test-Set: {0:.1%} ({1} / {2})\"\n",
    "    print(msg.format(acc, correct_sum, num_test))\n",
    "\n",
    "    # Plot some examples of mis-classifications, if desired.\n",
    "    if show_example_errors:\n",
    "        print(\"Example errors:\")\n",
    "        plot_example_errors(cls_pred=cls_pred, correct=correct)\n",
    "\n",
    "    # Plot the confusion matrix, if desired.\n",
    "    if show_confusion_matrix:\n",
    "        print(\"Confusion Matrix:\")\n",
    "        plot_confusion_matrix(cls_pred=cls_pred)\n",
    "    \n",
    "    \n",
    "    "
   ]
  },
  {
   "cell_type": "code",
   "execution_count": 113,
   "metadata": {},
   "outputs": [
    {
     "name": "stdout",
     "output_type": "stream",
     "text": [
      "Accuracy on Test-Set: 11.3% (1135 / 10000)\n"
     ]
    }
   ],
   "source": [
    "print_test_accuracy()"
   ]
  },
  {
   "cell_type": "code",
   "execution_count": 114,
   "metadata": {},
   "outputs": [
    {
     "name": "stdout",
     "output_type": "stream",
     "text": [
      "Optimization Iteration:      1, Training Accuracy:   6.2%\n",
      "Time usage: 0:00:00\n"
     ]
    }
   ],
   "source": [
    "#do 1 optimisation iteration\n",
    "optimize(num_iterations=1)"
   ]
  },
  {
   "cell_type": "code",
   "execution_count": 115,
   "metadata": {},
   "outputs": [
    {
     "name": "stdout",
     "output_type": "stream",
     "text": [
      "Accuracy on Test-Set: 11.3% (1135 / 10000)\n"
     ]
    }
   ],
   "source": [
    "print_test_accuracy()"
   ]
  },
  {
   "cell_type": "code",
   "execution_count": 116,
   "metadata": {},
   "outputs": [
    {
     "name": "stdout",
     "output_type": "stream",
     "text": [
      "Time usage: 0:00:04\n"
     ]
    }
   ],
   "source": [
    "optimize(num_iterations=99)"
   ]
  },
  {
   "cell_type": "code",
   "execution_count": null,
   "metadata": {},
   "outputs": [
    {
     "name": "stdout",
     "output_type": "stream",
     "text": [
      "Accuracy on Test-Set: 26.4% (2636 / 10000)\n",
      "Example errors:\n"
     ]
    },
    {
     "data": {
      "image/png": "[encoded data removed]",
      "text/plain": [
       "<Figure size 432x288 with 9 Axes>"
      ]
     },
     "metadata": {},
     "output_type": "display_data"
    }
   ],
   "source": [
    "#print miss-classified\n",
    "print_test_accuracy(show_example_errors=True)"
   ]
  },
  {
   "cell_type": "code",
   "execution_count": null,
   "metadata": {},
   "outputs": [
    {
     "name": "stdout",
     "output_type": "stream",
     "text": [
      "Optimization Iteration:   9901, Training Accuracy:  70.3%\n",
      "Optimization Iteration:  10001, Training Accuracy:  79.7%\n",
      "Optimization Iteration:  10101, Training Accuracy:  84.4%\n",
      "Optimization Iteration:  10201, Training Accuracy:  84.4%\n",
      "Optimization Iteration:  10301, Training Accuracy:  93.8%\n",
      "Optimization Iteration:  10401, Training Accuracy:  92.2%\n",
      "Optimization Iteration:  10501, Training Accuracy:  92.2%\n",
      "Optimization Iteration:  10601, Training Accuracy:  93.8%\n",
      "Optimization Iteration:  10701, Training Accuracy:  90.6%\n",
      "Time usage: 0:00:33\n"
     ]
    }
   ],
   "source": [
    "optimize(num_iterations=900)"
   ]
  },
  {
   "cell_type": "code",
   "execution_count": null,
   "metadata": {},
   "outputs": [
    {
     "name": "stdout",
     "output_type": "stream",
     "text": [
      "Accuracy on Test-Set: 92.6% (9260 / 10000)\n",
      "Example errors:\n"
     ]
    },
    {
     "data": {
      "image/png": "[encoded data removed]",
      "text/plain": [
       "<Figure size 432x288 with 9 Axes>"
      ]
     },
     "metadata": {},
     "output_type": "display_data"
    }
   ],
   "source": [
    "print_test_accuracy(show_example_errors=True)"
   ]
  },
  {
   "cell_type": "code",
   "execution_count": null,
   "metadata": {},
   "outputs": [
    {
     "name": "stdout",
     "output_type": "stream",
     "text": [
      "Optimization Iteration: 819901, Training Accuracy:  90.6%\n",
      "Optimization Iteration: 820001, Training Accuracy:  92.2%\n",
      "Optimization Iteration: 820101, Training Accuracy:  93.8%\n",
      "Optimization Iteration: 820201, Training Accuracy:  92.2%\n",
      "Optimization Iteration: 820301, Training Accuracy:  92.2%\n",
      "Optimization Iteration: 820401, Training Accuracy:  93.8%\n",
      "Optimization Iteration: 820501, Training Accuracy:  95.3%\n",
      "Optimization Iteration: 820601, Training Accuracy:  96.9%\n",
      "Optimization Iteration: 820701, Training Accuracy:  95.3%\n",
      "Optimization Iteration: 820801, Training Accuracy:  96.9%\n",
      "Optimization Iteration: 820901, Training Accuracy:  93.8%\n",
      "Optimization Iteration: 821001, Training Accuracy:  92.2%\n",
      "Optimization Iteration: 821101, Training Accuracy:  95.3%\n",
      "Optimization Iteration: 821201, Training Accuracy:  92.2%\n",
      "Optimization Iteration: 821301, Training Accuracy:  96.9%\n",
      "Optimization Iteration: 821401, Training Accuracy:  98.4%\n",
      "Optimization Iteration: 821501, Training Accuracy:  95.3%\n",
      "Optimization Iteration: 821601, Training Accuracy:  93.8%\n",
      "Optimization Iteration: 821701, Training Accuracy: 100.0%\n",
      "Optimization Iteration: 821801, Training Accuracy:  98.4%\n",
      "Optimization Iteration: 821901, Training Accuracy:  95.3%\n",
      "Optimization Iteration: 822001, Training Accuracy:  98.4%\n",
      "Optimization Iteration: 822101, Training Accuracy: 100.0%\n",
      "Optimization Iteration: 822201, Training Accuracy:  96.9%\n",
      "Optimization Iteration: 822301, Training Accuracy: 100.0%\n",
      "Optimization Iteration: 822401, Training Accuracy:  98.4%\n",
      "Optimization Iteration: 822501, Training Accuracy:  98.4%\n",
      "Optimization Iteration: 822601, Training Accuracy:  93.8%\n",
      "Optimization Iteration: 822701, Training Accuracy:  96.9%\n",
      "Optimization Iteration: 822801, Training Accuracy:  96.9%\n",
      "Optimization Iteration: 822901, Training Accuracy:  98.4%\n",
      "Optimization Iteration: 823001, Training Accuracy:  98.4%\n",
      "Optimization Iteration: 823101, Training Accuracy:  98.4%\n",
      "Optimization Iteration: 823201, Training Accuracy:  98.4%\n",
      "Optimization Iteration: 823301, Training Accuracy:  96.9%\n",
      "Optimization Iteration: 823401, Training Accuracy: 100.0%\n",
      "Optimization Iteration: 823501, Training Accuracy:  96.9%\n",
      "Optimization Iteration: 823601, Training Accuracy:  98.4%\n",
      "Optimization Iteration: 823701, Training Accuracy:  98.4%\n",
      "Optimization Iteration: 823801, Training Accuracy:  96.9%\n",
      "Optimization Iteration: 823901, Training Accuracy:  98.4%\n",
      "Optimization Iteration: 824001, Training Accuracy: 100.0%\n",
      "Optimization Iteration: 824101, Training Accuracy:  98.4%\n",
      "Optimization Iteration: 824201, Training Accuracy: 100.0%\n",
      "Optimization Iteration: 824301, Training Accuracy:  98.4%\n",
      "Optimization Iteration: 824401, Training Accuracy: 100.0%\n",
      "Optimization Iteration: 824501, Training Accuracy:  98.4%\n",
      "Optimization Iteration: 824601, Training Accuracy:  95.3%\n",
      "Optimization Iteration: 824701, Training Accuracy:  98.4%\n",
      "Optimization Iteration: 824801, Training Accuracy:  98.4%\n",
      "Optimization Iteration: 824901, Training Accuracy:  98.4%\n",
      "Optimization Iteration: 825001, Training Accuracy:  98.4%\n",
      "Optimization Iteration: 825101, Training Accuracy: 100.0%\n",
      "Optimization Iteration: 825201, Training Accuracy:  96.9%\n",
      "Optimization Iteration: 825301, Training Accuracy:  98.4%\n",
      "Optimization Iteration: 825401, Training Accuracy: 100.0%\n",
      "Optimization Iteration: 825501, Training Accuracy: 100.0%\n",
      "Optimization Iteration: 825601, Training Accuracy:  98.4%\n",
      "Optimization Iteration: 825701, Training Accuracy: 100.0%\n",
      "Optimization Iteration: 825801, Training Accuracy: 100.0%\n",
      "Optimization Iteration: 825901, Training Accuracy:  98.4%\n",
      "Optimization Iteration: 826001, Training Accuracy: 100.0%\n",
      "Optimization Iteration: 826101, Training Accuracy:  96.9%\n",
      "Optimization Iteration: 826201, Training Accuracy: 100.0%\n",
      "Optimization Iteration: 826301, Training Accuracy:  98.4%\n",
      "Optimization Iteration: 826401, Training Accuracy: 100.0%\n",
      "Optimization Iteration: 826501, Training Accuracy: 100.0%\n",
      "Optimization Iteration: 826601, Training Accuracy:  98.4%\n",
      "Optimization Iteration: 826701, Training Accuracy:  95.3%\n",
      "Optimization Iteration: 826801, Training Accuracy:  96.9%\n",
      "Optimization Iteration: 826901, Training Accuracy:  98.4%\n",
      "Optimization Iteration: 827001, Training Accuracy: 100.0%\n",
      "Optimization Iteration: 827101, Training Accuracy:  98.4%\n",
      "Optimization Iteration: 827201, Training Accuracy: 100.0%\n",
      "Optimization Iteration: 827301, Training Accuracy: 100.0%\n",
      "Optimization Iteration: 827401, Training Accuracy: 100.0%\n",
      "Optimization Iteration: 827501, Training Accuracy:  98.4%\n",
      "Optimization Iteration: 827601, Training Accuracy:  96.9%\n",
      "Optimization Iteration: 827701, Training Accuracy:  98.4%\n",
      "Optimization Iteration: 827801, Training Accuracy: 100.0%\n",
      "Optimization Iteration: 827901, Training Accuracy: 100.0%\n",
      "Optimization Iteration: 828001, Training Accuracy:  98.4%\n",
      "Optimization Iteration: 828101, Training Accuracy: 100.0%\n",
      "Optimization Iteration: 828201, Training Accuracy: 100.0%\n",
      "Optimization Iteration: 828301, Training Accuracy:  96.9%\n",
      "Optimization Iteration: 828401, Training Accuracy:  98.4%\n",
      "Optimization Iteration: 828501, Training Accuracy: 100.0%\n",
      "Optimization Iteration: 828601, Training Accuracy:  96.9%\n",
      "Optimization Iteration: 828701, Training Accuracy: 100.0%\n"
     ]
    }
   ],
   "source": [
    "optimize(num_iterations=10000)"
   ]
  },
  {
   "cell_type": "code",
   "execution_count": null,
   "metadata": {},
   "outputs": [],
   "source": [
    "print_test_accuracy(show_example_errors=True,\n",
    "                   show_confusion_matrix=True)    "
   ]
  },
  {
   "cell_type": "code",
   "execution_count": 58,
   "metadata": {},
   "outputs": [],
   "source": [
    "session.close()"
   ]
  },
  {
   "cell_type": "code",
   "execution_count": null,
   "metadata": {},
   "outputs": [],
   "source": []
  }
 ],
 "metadata": {
  "kernelspec": {
   "display_name": "Python 3",
   "language": "python",
   "name": "python3"
  },
  "language_info": {
   "codemirror_mode": {
    "name": "ipython",
    "version": 3
   },
   "file_extension": ".py",
   "mimetype": "text/x-python",
   "name": "python",
   "nbconvert_exporter": "python",
   "pygments_lexer": "ipython3",
   "version": "3.6.7"
  }
 },
 "nbformat": 4,
 "nbformat_minor": 2
}
