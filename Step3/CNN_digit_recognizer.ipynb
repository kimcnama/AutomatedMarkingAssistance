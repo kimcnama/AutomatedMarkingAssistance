{
 "cells": [
  {
   "cell_type": "code",
   "execution_count": 10,
   "metadata": {},
   "outputs": [
    {
     "data": {
      "text/plain": [
       "'1.12.0'"
      ]
     },
     "execution_count": 10,
     "metadata": {},
     "output_type": "execute_result"
    }
   ],
   "source": [
    "#check this -> https://github.com/keras-team/keras/blob/master/examples/mnist_cnn.py\n",
    "\n",
    "import tensorflow as tf\n",
    "from tensorflow.keras.models import Sequential\n",
    "from tensorflow.keras.layers import Dense, Dropout, Activation, Conv2D, MaxPooling2D, Flatten\n",
    "from keras.utils import to_categorical\n",
    "import keras\n",
    "import keras.optimizers\n",
    "import matplotlib.pyplot as plt\n",
    "\n",
    "tf.__version__"
   ]
  },
  {
   "cell_type": "code",
   "execution_count": 11,
   "metadata": {},
   "outputs": [],
   "source": [
    "mnist = tf.keras.datasets.mnist\n",
    "(x_train, y_train), (x_test, y_test) = mnist.load_data()\n",
    "\n",
    "#scale define, makes easier for network to learn\n",
    "#x_train = tf.keras.utils.normalize(x_train, axis=1)\n",
    "#x_test = tf.keras.utils.normalize(x_test, axis=1)\n",
    "x_train = x_train.reshape(60000,28,28,1)\n",
    "x_test = x_test.reshape(10000,28,28,1)\n",
    "\n",
    "#one-hot encode target column\n",
    "y_train = to_categorical(y_train)\n",
    "y_test = to_categorical(y_test)\n",
    "#y_train[0]\n"
   ]
  },
  {
   "cell_type": "code",
   "execution_count": 14,
   "metadata": {},
   "outputs": [
    {
     "name": "stdout",
     "output_type": "stream",
     "text": [
      "Train on 60000 samples, validate on 10000 samples\n",
      "Epoch 1/12\n",
      "60000/60000 [==============================] - 93s 2ms/step - loss: 0.5914 - acc: 0.8454 - val_loss: 0.0715 - val_acc: 0.9777\n",
      "Epoch 2/12\n",
      "60000/60000 [==============================] - 84s 1ms/step - loss: 0.1355 - acc: 0.9598 - val_loss: 0.0530 - val_acc: 0.9828\n",
      "Epoch 3/12\n",
      "60000/60000 [==============================] - 84s 1ms/step - loss: 0.1042 - acc: 0.9690 - val_loss: 0.0458 - val_acc: 0.9852\n",
      "Epoch 4/12\n",
      "60000/60000 [==============================] - 85s 1ms/step - loss: 0.0867 - acc: 0.9746 - val_loss: 0.0433 - val_acc: 0.9862\n",
      "Epoch 5/12\n",
      "60000/60000 [==============================] - 78s 1ms/step - loss: 0.0784 - acc: 0.9768 - val_loss: 0.0413 - val_acc: 0.9877\n",
      "Epoch 6/12\n",
      "60000/60000 [==============================] - 82s 1ms/step - loss: 0.0677 - acc: 0.9792 - val_loss: 0.0378 - val_acc: 0.9877\n",
      "Epoch 7/12\n",
      "60000/60000 [==============================] - 88s 1ms/step - loss: 0.0649 - acc: 0.9806 - val_loss: 0.0392 - val_acc: 0.9892\n",
      "Epoch 8/12\n",
      "60000/60000 [==============================] - 89s 1ms/step - loss: 0.0577 - acc: 0.9826 - val_loss: 0.0419 - val_acc: 0.9872\n",
      "Epoch 9/12\n",
      "60000/60000 [==============================] - 93s 2ms/step - loss: 0.0542 - acc: 0.9826 - val_loss: 0.0310 - val_acc: 0.9902\n",
      "Epoch 10/12\n",
      "60000/60000 [==============================] - 92s 2ms/step - loss: 0.0511 - acc: 0.9848 - val_loss: 0.0339 - val_acc: 0.9903\n",
      "Epoch 11/12\n",
      "60000/60000 [==============================] - 89s 1ms/step - loss: 0.0504 - acc: 0.9847 - val_loss: 0.0373 - val_acc: 0.9899\n",
      "Epoch 12/12\n",
      "60000/60000 [==============================] - 95s 2ms/step - loss: 0.0477 - acc: 0.9852 - val_loss: 0.0304 - val_acc: 0.9909\n"
     ]
    },
    {
     "data": {
      "text/plain": [
       "<tensorflow.python.keras.callbacks.History at 0x7fa0dc0cd3c8>"
      ]
     },
     "execution_count": 14,
     "metadata": {},
     "output_type": "execute_result"
    }
   ],
   "source": [
    "model = Sequential()\n",
    "#args: (filters, window size, input_shape)\n",
    "model.add(Conv2D(32, kernel_size=(3,3), activation='relu', input_shape=(28,28,1)))\n",
    "#model.add(Activation(\"relu\"))\n",
    "#model.add(MaxPooling2D(pool_size=(2,2)))\n",
    "\n",
    "model.add(Conv2D(64, kernel_size=(3,3), activation='relu'))\n",
    "#model.add(Activation(\"relu\"))\n",
    "model.add(MaxPooling2D(pool_size=(2,2)))\n",
    "\n",
    "model.add(Conv2D(16, kernel_size=(3,3), activation='relu'))\n",
    "#model.add(Activation(\"relu\"))\n",
    "#model.add(MaxPooling2D(pool_size=(2,2)))\n",
    "model.add(Dropout(0.25))\n",
    "\n",
    "model.add(Flatten())\n",
    "model.add(Dense(128, activation='relu'))\n",
    "model.add(Dropout(0.5))\n",
    "\n",
    "model.add(Dense(10, activation='softmax'))\n",
    "#model.add(Activation('sigmoid'))\n",
    "\n",
    "model.compile(optimizer='adam', loss='categorical_crossentropy', \n",
    "             metrics=['accuracy'])\n",
    "\n",
    "model.fit(x_train, y_train, epochs=12, batch_size=128, verbose=1, validation_data=(x_test, y_test))"
   ]
  },
  {
   "cell_type": "code",
   "execution_count": 15,
   "metadata": {},
   "outputs": [],
   "source": [
    "model.save('9852.model')"
   ]
  },
  {
   "cell_type": "code",
   "execution_count": null,
   "metadata": {},
   "outputs": [],
   "source": []
  }
 ],
 "metadata": {
  "kernelspec": {
   "display_name": "Python 3",
   "language": "python",
   "name": "python3"
  },
  "language_info": {
   "codemirror_mode": {
    "name": "ipython",
    "version": 3
   },
   "file_extension": ".py",
   "mimetype": "text/x-python",
   "name": "python",
   "nbconvert_exporter": "python",
   "pygments_lexer": "ipython3",
   "version": "3.6.7"
  }
 },
 "nbformat": 4,
 "nbformat_minor": 2
}
