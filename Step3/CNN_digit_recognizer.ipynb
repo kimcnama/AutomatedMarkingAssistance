{
 "cells": [
  {
   "cell_type": "code",
   "execution_count": 1,
   "metadata": {},
   "outputs": [
    {
     "name": "stderr",
     "output_type": "stream",
     "text": [
      "Using TensorFlow backend.\n"
     ]
    },
    {
     "data": {
      "text/plain": [
       "'1.12.0'"
      ]
     },
     "execution_count": 1,
     "metadata": {},
     "output_type": "execute_result"
    }
   ],
   "source": [
    "#check this -> https://github.com/keras-team/keras/blob/master/examples/mnist_cnn.py\n",
    "\n",
    "import tensorflow as tf\n",
    "from tensorflow.keras.models import Sequential\n",
    "from tensorflow.keras.layers import Dense, Dropout, Activation, Conv2D, MaxPooling2D, Flatten, MaxPool2D\n",
    "from keras.utils import to_categorical\n",
    "import keras\n",
    "import keras.optimizers\n",
    "import matplotlib.pyplot as plt\n",
    "from keras.optimizers import RMSprop\n",
    "\n",
    "import seaborn as sns\n",
    "\n",
    "import matplotlib.pyplot as plt\n",
    "import numpy as np\n",
    "import cv2\n",
    "\n",
    "sns.set(style='white', context='notebook', palette='deep')\n",
    "\n",
    "tf.__version__"
   ]
  },
  {
   "cell_type": "code",
   "execution_count": 2,
   "metadata": {},
   "outputs": [],
   "source": [
    "import pandas as pd\n",
    "import numpy as np\n",
    "import matplotlib.pyplot as plt\n",
    "import matplotlib.image as mpimg\n",
    "%matplotlib inline\n",
    "\n",
    "np.random.seed(2)\n",
    "\n",
    "from sklearn.model_selection import train_test_split\n",
    "from sklearn.metrics import confusion_matrix\n",
    "import itertools\n",
    "\n",
    "from keras.utils.np_utils import to_categorical # convert to one-hot-encoding\n",
    "from keras.models import Sequential\n",
    "from keras.layers import Dense, Dropout, Flatten, Conv2D, MaxPool2D\n",
    "from keras.optimizers import RMSprop\n",
    "from keras.preprocessing.image import ImageDataGenerator\n",
    "from keras.callbacks import ReduceLROnPlateau"
   ]
  },
  {
   "cell_type": "code",
   "execution_count": 3,
   "metadata": {},
   "outputs": [],
   "source": [
    "def plot_images(images):\n",
    "\n",
    "    \n",
    "    #create figure with 3x3 sub-plots\n",
    "    fig, axes = plt.subplots(3, 3)\n",
    "    fig.subplots_adjust(hspace=0.3, wspace=0.3)\n",
    "    \n",
    "    for i, ax in enumerate(axes.flat):\n",
    "        ax.imshow(images[i].reshape((28,28)), cmap='binary')\n",
    "\n",
    "        \n",
    "        # Remove ticks from the plot.\n",
    "        ax.set_xticks([])\n",
    "        ax.set_yticks([])\n",
    "        \n",
    "    plt.show()"
   ]
  },
  {
   "cell_type": "code",
   "execution_count": 4,
   "metadata": {},
   "outputs": [],
   "source": [
    "mnist = tf.keras.datasets.mnist\n",
    "(x_train, y_train), (x_test, y_test) = mnist.load_data()\n",
    "\n",
    "#scale define, makes easier for network to learn\n",
    "#x_train = tf.keras.utils.normalize(x_train, axis=1)\n",
    "#x_test = tf.keras.utils.normalize(x_test, axis=1)\n",
    "x_train = x_train.reshape(60000,28,28,1)\n",
    "x_test = x_test.reshape(10000,28,28,1)\n",
    "\n",
    "\n",
    "\n",
    "#one-hot encode target column\n",
    "y_train = to_categorical(y_train)\n",
    "y_test = to_categorical(y_test)\n",
    "\n",
    "\n",
    "\n"
   ]
  },
  {
   "cell_type": "code",
   "execution_count": 5,
   "metadata": {},
   "outputs": [],
   "source": [
    "for i in range(len(x_train)):\n",
    "    (thresh, im_bw) = cv2.threshold(x_train[i], 128, 255, cv2.THRESH_BINARY | cv2.THRESH_OTSU)\n",
    "    x_train[i] = im_bw.reshape((28,28,1))\n",
    "    \n",
    "for i in range(len(x_test)):\n",
    "    (thresh, im_bw) = cv2.threshold(x_test[i], 128, 255, cv2.THRESH_BINARY | cv2.THRESH_OTSU)\n",
    "    x_test[i] = im_bw.reshape((28,28,1))"
   ]
  },
  {
   "cell_type": "code",
   "execution_count": 26,
   "metadata": {},
   "outputs": [
    {
     "data": {
      "text/plain": [
       "'\\nmodel = Sequential()\\n#args: (filters, window size, input_shape)\\nmodel.add(Conv2D(32, kernel_size=(3,3), activation=\\'relu\\', input_shape=(28,28,1)))\\n#model.add(Activation(\"relu\"))\\n#model.add(MaxPooling2D(pool_size=(2,2)))\\n\\nmodel.add(Conv2D(64, kernel_size=(3,3), activation=\\'relu\\'))\\n#model.add(Activation(\"relu\"))\\nmodel.add(MaxPooling2D(pool_size=(2,2)))\\n\\nmodel.add(Conv2D(16, kernel_size=(3,3), activation=\\'relu\\'))\\n#model.add(Activation(\"relu\"))\\n#model.add(MaxPooling2D(pool_size=(2,2)))\\nmodel.add(Dropout(0.25))\\n\\nmodel.add(Flatten())\\nmodel.add(Dense(128, activation=\\'relu\\'))\\nmodel.add(Dropout(0.5))\\n\\nmodel.add(Dense(10, activation=\\'softmax\\'))\\n#model.add(Activation(\\'sigmoid\\'))\\n\\nmodel.compile(optimizer=\\'adam\\', loss=\\'categorical_crossentropy\\', \\n             metrics=[\\'accuracy\\'])\\n\\nmodel.fit(x_train, y_train, epochs=12, batch_size=128, verbose=1, validation_data=(x_test, y_test))\\n'"
      ]
     },
     "execution_count": 26,
     "metadata": {},
     "output_type": "execute_result"
    }
   ],
   "source": [
    "#Model 1\n",
    "\"\"\"\n",
    "model = Sequential()\n",
    "#args: (filters, window size, input_shape)\n",
    "model.add(Conv2D(32, kernel_size=(3,3), activation='relu', input_shape=(28,28,1)))\n",
    "#model.add(Activation(\"relu\"))\n",
    "#model.add(MaxPooling2D(pool_size=(2,2)))\n",
    "\n",
    "model.add(Conv2D(64, kernel_size=(3,3), activation='relu'))\n",
    "#model.add(Activation(\"relu\"))\n",
    "model.add(MaxPooling2D(pool_size=(2,2)))\n",
    "\n",
    "model.add(Conv2D(16, kernel_size=(3,3), activation='relu'))\n",
    "#model.add(Activation(\"relu\"))\n",
    "#model.add(MaxPooling2D(pool_size=(2,2)))\n",
    "model.add(Dropout(0.25))\n",
    "\n",
    "model.add(Flatten())\n",
    "model.add(Dense(128, activation='relu'))\n",
    "model.add(Dropout(0.5))\n",
    "\n",
    "model.add(Dense(10, activation='softmax'))\n",
    "#model.add(Activation('sigmoid'))\n",
    "\n",
    "model.compile(optimizer='adam', loss='categorical_crossentropy', \n",
    "             metrics=['accuracy'])\n",
    "\n",
    "model.fit(x_train, y_train, epochs=12, batch_size=128, verbose=1, validation_data=(x_test, y_test))\n",
    "\"\"\""
   ]
  },
  {
   "cell_type": "code",
   "execution_count": 27,
   "metadata": {},
   "outputs": [],
   "source": [
    "#Model 2 : see: https://www.kaggle.com/yassineghouzam/introduction-to-cnn-keras-0-997-top-6\n",
    "\n",
    "model = Sequential()\n",
    "\n",
    "model.add(Conv2D(filters = 32, kernel_size = (5,5),padding = 'Same', \n",
    "                 activation ='relu', input_shape = (28,28,1)))\n",
    "model.add(Conv2D(filters = 32, kernel_size = (5,5),padding = 'Same', \n",
    "                 activation ='relu'))\n",
    "model.add(MaxPool2D(pool_size=(2,2)))\n",
    "model.add(Dropout(0.25))\n",
    "\n",
    "\n",
    "model.add(Conv2D(filters = 64, kernel_size = (3,3),padding = 'Same', \n",
    "                 activation ='relu'))\n",
    "model.add(Conv2D(filters = 64, kernel_size = (3,3),padding = 'Same', \n",
    "                 activation ='relu'))\n",
    "model.add(MaxPool2D(pool_size=(2,2), strides=(2,2)))\n",
    "model.add(Dropout(0.25))\n",
    "\n",
    "\n",
    "model.add(Flatten())\n",
    "model.add(Dense(256, activation = \"relu\"))\n",
    "model.add(Dropout(0.5))\n",
    "model.add(Dense(10, activation = \"softmax\"))\n",
    "\n",
    "# Define the optimizer\n",
    "#optimizer = RMSprop(lr=0.001, rho=0.9, epsilon=1e-08, decay=0.0)\n",
    "\n",
    "# Compile the model\n",
    "model.compile(optimizer = 'adam' , loss = \"categorical_crossentropy\", metrics=[\"accuracy\"])"
   ]
  },
  {
   "cell_type": "code",
   "execution_count": 28,
   "metadata": {},
   "outputs": [],
   "source": [
    "# Set a learning rate annealer\n",
    "learning_rate_reduction = ReduceLROnPlateau(monitor='val_acc', \n",
    "                                            patience=3, \n",
    "                                            verbose=1, \n",
    "                                            factor=0.3, \n",
    "                                            min_lr=0.00001)\n",
    "\n",
    "epochs = 45 \n",
    "batch_size = 86"
   ]
  },
  {
   "cell_type": "code",
   "execution_count": 29,
   "metadata": {},
   "outputs": [],
   "source": [
    "# With data augmentation to prevent overfitting (accuracy 0.99286)\n",
    "\n",
    "datagen = ImageDataGenerator(\n",
    "        featurewise_center=False,  # set input mean to 0 over the dataset\n",
    "        samplewise_center=False,  # set each sample mean to 0\n",
    "        featurewise_std_normalization=False,  # divide inputs by std of the dataset\n",
    "        samplewise_std_normalization=False,  # divide each input by its std\n",
    "        zca_whitening=False,  # apply ZCA whitening\n",
    "        rotation_range=10,  # randomly rotate images in the range (degrees, 0 to 180)\n",
    "        zoom_range = 0.1, # Randomly zoom image \n",
    "        width_shift_range=0.1,  # randomly shift images horizontally (fraction of total width)\n",
    "        height_shift_range=0.1,  # randomly shift images vertically (fraction of total height)\n",
    "        horizontal_flip=False,  # randomly flip images\n",
    "        vertical_flip=False)  # randomly flip images\n",
    "\n",
    "\n",
    "datagen.fit(x_train)"
   ]
  },
  {
   "cell_type": "code",
   "execution_count": 30,
   "metadata": {},
   "outputs": [
    {
     "name": "stdout",
     "output_type": "stream",
     "text": [
      "Epoch 1/45\n",
      " - 236s - loss: 0.5661 - acc: 0.8492 - val_loss: 0.0554 - val_acc: 0.9816\n",
      "Epoch 2/45\n",
      " - 250s - loss: 0.1656 - acc: 0.9516 - val_loss: 0.0428 - val_acc: 0.9851\n",
      "Epoch 3/45\n",
      " - 246s - loss: 0.1266 - acc: 0.9620 - val_loss: 0.0363 - val_acc: 0.9875\n",
      "Epoch 4/45\n",
      " - 247s - loss: 0.1168 - acc: 0.9650 - val_loss: 0.0324 - val_acc: 0.9886\n",
      "Epoch 5/45\n",
      " - 240s - loss: 0.1080 - acc: 0.9684 - val_loss: 0.0372 - val_acc: 0.9865\n",
      "Epoch 6/45\n",
      " - 306s - loss: 0.1026 - acc: 0.9707 - val_loss: 0.0273 - val_acc: 0.9901\n",
      "Epoch 7/45\n",
      " - 272s - loss: 0.0941 - acc: 0.9727 - val_loss: 0.0256 - val_acc: 0.9916\n",
      "Epoch 8/45\n",
      " - 214s - loss: 0.0900 - acc: 0.9740 - val_loss: 0.0367 - val_acc: 0.9887\n",
      "Epoch 9/45\n",
      " - 264s - loss: 0.0876 - acc: 0.9742 - val_loss: 0.0309 - val_acc: 0.9886\n",
      "Epoch 10/45\n",
      " - 220s - loss: 0.0894 - acc: 0.9741 - val_loss: 0.0243 - val_acc: 0.9929\n",
      "Epoch 11/45\n",
      " - 210s - loss: 0.0839 - acc: 0.9758 - val_loss: 0.0367 - val_acc: 0.9896\n",
      "Epoch 12/45\n",
      " - 227s - loss: 0.0874 - acc: 0.9756 - val_loss: 0.0323 - val_acc: 0.9893\n",
      "Epoch 13/45\n",
      " - 248s - loss: 0.0806 - acc: 0.9765 - val_loss: 0.0248 - val_acc: 0.9927\n",
      "\n",
      "Epoch 00013: ReduceLROnPlateau reducing learning rate to 0.0003000000142492354.\n",
      "Epoch 14/45\n",
      " - 240s - loss: 0.0574 - acc: 0.9834 - val_loss: 0.0181 - val_acc: 0.9944\n",
      "Epoch 15/45\n",
      " - 305s - loss: 0.0520 - acc: 0.9851 - val_loss: 0.0185 - val_acc: 0.9940\n",
      "Epoch 16/45\n",
      " - 231s - loss: 0.0491 - acc: 0.9858 - val_loss: 0.0187 - val_acc: 0.9942\n",
      "Epoch 17/45\n",
      " - 240s - loss: 0.0487 - acc: 0.9859 - val_loss: 0.0197 - val_acc: 0.9945\n",
      "Epoch 18/45\n",
      " - 222s - loss: 0.0462 - acc: 0.9861 - val_loss: 0.0201 - val_acc: 0.9936\n",
      "Epoch 19/45\n",
      " - 229s - loss: 0.0449 - acc: 0.9870 - val_loss: 0.0183 - val_acc: 0.9945\n",
      "Epoch 20/45\n",
      " - 217s - loss: 0.0458 - acc: 0.9867 - val_loss: 0.0223 - val_acc: 0.9937\n",
      "\n",
      "Epoch 00020: ReduceLROnPlateau reducing learning rate to 9.000000427477062e-05.\n",
      "Epoch 21/45\n",
      " - 230s - loss: 0.0400 - acc: 0.9879 - val_loss: 0.0176 - val_acc: 0.9942\n",
      "Epoch 22/45\n",
      " - 233s - loss: 0.0380 - acc: 0.9883 - val_loss: 0.0174 - val_acc: 0.9944\n",
      "Epoch 23/45\n",
      " - 260s - loss: 0.0371 - acc: 0.9888 - val_loss: 0.0165 - val_acc: 0.9946\n",
      "\n",
      "Epoch 00023: ReduceLROnPlateau reducing learning rate to 2.700000040931627e-05.\n",
      "Epoch 24/45\n",
      " - 235s - loss: 0.0341 - acc: 0.9899 - val_loss: 0.0163 - val_acc: 0.9951\n",
      "Epoch 25/45\n",
      " - 237s - loss: 0.0354 - acc: 0.9894 - val_loss: 0.0164 - val_acc: 0.9950\n",
      "Epoch 26/45\n",
      " - 237s - loss: 0.0331 - acc: 0.9905 - val_loss: 0.0158 - val_acc: 0.9946\n",
      "Epoch 27/45\n",
      " - 231s - loss: 0.0338 - acc: 0.9897 - val_loss: 0.0155 - val_acc: 0.9952\n",
      "Epoch 28/45\n",
      " - 237s - loss: 0.0331 - acc: 0.9896 - val_loss: 0.0159 - val_acc: 0.9951\n",
      "Epoch 29/45\n",
      " - 240s - loss: 0.0329 - acc: 0.9900 - val_loss: 0.0156 - val_acc: 0.9946\n",
      "Epoch 30/45\n",
      " - 225s - loss: 0.0320 - acc: 0.9905 - val_loss: 0.0157 - val_acc: 0.9949\n",
      "\n",
      "Epoch 00030: ReduceLROnPlateau reducing learning rate to 1e-05.\n",
      "Epoch 31/45\n",
      " - 221s - loss: 0.0315 - acc: 0.9902 - val_loss: 0.0153 - val_acc: 0.9951\n",
      "Epoch 32/45\n",
      " - 232s - loss: 0.0312 - acc: 0.9902 - val_loss: 0.0154 - val_acc: 0.9953\n",
      "Epoch 33/45\n",
      " - 228s - loss: 0.0329 - acc: 0.9903 - val_loss: 0.0151 - val_acc: 0.9952\n",
      "Epoch 34/45\n",
      " - 231s - loss: 0.0323 - acc: 0.9899 - val_loss: 0.0149 - val_acc: 0.9951\n",
      "Epoch 35/45\n",
      " - 230s - loss: 0.0322 - acc: 0.9907 - val_loss: 0.0149 - val_acc: 0.9952\n",
      "Epoch 36/45\n",
      " - 235s - loss: 0.0339 - acc: 0.9899 - val_loss: 0.0154 - val_acc: 0.9952\n",
      "Epoch 37/45\n",
      " - 236s - loss: 0.0317 - acc: 0.9906 - val_loss: 0.0156 - val_acc: 0.9953\n",
      "Epoch 38/45\n",
      " - 269s - loss: 0.0330 - acc: 0.9904 - val_loss: 0.0153 - val_acc: 0.9952\n",
      "Epoch 39/45\n",
      " - 211s - loss: 0.0313 - acc: 0.9905 - val_loss: 0.0151 - val_acc: 0.9952\n",
      "Epoch 40/45\n",
      " - 245s - loss: 0.0333 - acc: 0.9901 - val_loss: 0.0152 - val_acc: 0.9954\n",
      "Epoch 41/45\n",
      " - 219s - loss: 0.0308 - acc: 0.9907 - val_loss: 0.0153 - val_acc: 0.9951\n",
      "Epoch 42/45\n",
      " - 1053s - loss: 0.0334 - acc: 0.9902 - val_loss: 0.0149 - val_acc: 0.9954\n",
      "Epoch 43/45\n",
      " - 1068s - loss: 0.0315 - acc: 0.9906 - val_loss: 0.0153 - val_acc: 0.9953\n",
      "Epoch 44/45\n",
      " - 212s - loss: 0.0301 - acc: 0.9908 - val_loss: 0.0153 - val_acc: 0.9949\n",
      "Epoch 45/45\n",
      " - 212s - loss: 0.0331 - acc: 0.9900 - val_loss: 0.0154 - val_acc: 0.9951\n"
     ]
    }
   ],
   "source": [
    "# Fit the model\n",
    "history = model.fit_generator(datagen.flow(x_train,y_train, batch_size=batch_size),\n",
    "                              epochs = epochs, validation_data = (x_test,y_test),\n",
    "                              verbose = 2, steps_per_epoch=x_train.shape[0] // batch_size\n",
    "                              , callbacks=[learning_rate_reduction])"
   ]
  },
  {
   "cell_type": "code",
   "execution_count": 3,
   "metadata": {},
   "outputs": [],
   "source": [
    "model_name = 'binary_model_9904.model'"
   ]
  },
  {
   "cell_type": "code",
   "execution_count": null,
   "metadata": {},
   "outputs": [],
   "source": [
    "model.save(model_name)"
   ]
  },
  {
   "cell_type": "code",
   "execution_count": 4,
   "metadata": {},
   "outputs": [],
   "source": [
    "model = tf.keras.models.load_model(model_name)"
   ]
  },
  {
   "cell_type": "code",
   "execution_count": 33,
   "metadata": {},
   "outputs": [],
   "source": [
    "img = cv2.imread(\"5.png\")"
   ]
  },
  {
   "cell_type": "code",
   "execution_count": 34,
   "metadata": {},
   "outputs": [
    {
     "data": {
      "text/plain": [
       "<matplotlib.image.AxesImage at 0x7fe730089b70>"
      ]
     },
     "execution_count": 34,
     "metadata": {},
     "output_type": "execute_result"
    },
    {
     "data": {
      "image/png": "[encoded data removed]",
      "text/plain": [
       "<Figure size 432x288 with 1 Axes>"
      ]
     },
     "metadata": {
      "needs_background": "light"
     },
     "output_type": "display_data"
    }
   ],
   "source": [
    "plt.imshow(img)"
   ]
  },
  {
   "cell_type": "code",
   "execution_count": 35,
   "metadata": {},
   "outputs": [
    {
     "data": {
      "text/plain": [
       "array([[9.9925368e-10, 9.2593982e-06, 4.7118413e-01, 5.1905346e-01,\n",
       "        4.9413840e-10, 1.2485350e-03, 2.2284439e-08, 8.4052542e-03,\n",
       "        9.7283351e-05, 2.0002083e-06]], dtype=float32)"
      ]
     },
     "execution_count": 35,
     "metadata": {},
     "output_type": "execute_result"
    }
   ],
   "source": [
    "img = np.resize(img, (1,28,28,1))\n",
    "model.predict(img)"
   ]
  },
  {
   "cell_type": "code",
   "execution_count": 36,
   "metadata": {},
   "outputs": [
    {
     "data": {
      "text/plain": [
       "3"
      ]
     },
     "execution_count": 36,
     "metadata": {},
     "output_type": "execute_result"
    }
   ],
   "source": [
    "np.argmax(model.predict(img))"
   ]
  },
  {
   "cell_type": "code",
   "execution_count": 37,
   "metadata": {},
   "outputs": [
    {
     "data": {
      "image/png": "[encoded data removed]",
      "text/plain": [
       "<Figure size 432x288 with 2 Axes>"
      ]
     },
     "metadata": {
      "needs_background": "light"
     },
     "output_type": "display_data"
    }
   ],
   "source": [
    "X_val = x_test\n",
    "Y_val = y_test\n",
    "\n",
    "# Plot the loss and accuracy curves for training and validation \n",
    "fig, ax = plt.subplots(2,1)\n",
    "ax[0].plot(history.history['loss'], color='b', label=\"Training loss\")\n",
    "ax[0].plot(history.history['val_loss'], color='r', label=\"validation loss\",axes =ax[0])\n",
    "legend = ax[0].legend(loc='best', shadow=True)\n",
    "\n",
    "ax[1].plot(history.history['acc'], color='b', label=\"Training accuracy\")\n",
    "ax[1].plot(history.history['val_acc'], color='r',label=\"Validation accuracy\")\n",
    "legend = ax[1].legend(loc='best', shadow=True)"
   ]
  },
  {
   "cell_type": "code",
   "execution_count": 201,
   "metadata": {},
   "outputs": [
    {
     "ename": "NameError",
     "evalue": "name 'X_val' is not defined",
     "output_type": "error",
     "traceback": [
      "\u001b[0;31m---------------------------------------------------------------------------\u001b[0m",
      "\u001b[0;31mNameError\u001b[0m                                 Traceback (most recent call last)",
      "\u001b[0;32m<ipython-input-201-e3d2ffefba8d>\u001b[0m in \u001b[0;36m<module>\u001b[0;34m\u001b[0m\n\u001b[1;32m     28\u001b[0m \u001b[0;34m\u001b[0m\u001b[0m\n\u001b[1;32m     29\u001b[0m \u001b[0;31m# Predict the values from the validation dataset\u001b[0m\u001b[0;34m\u001b[0m\u001b[0;34m\u001b[0m\u001b[0;34m\u001b[0m\u001b[0m\n\u001b[0;32m---> 30\u001b[0;31m \u001b[0mY_pred\u001b[0m \u001b[0;34m=\u001b[0m \u001b[0mmodel\u001b[0m\u001b[0;34m.\u001b[0m\u001b[0mpredict\u001b[0m\u001b[0;34m(\u001b[0m\u001b[0mX_val\u001b[0m\u001b[0;34m)\u001b[0m\u001b[0;34m\u001b[0m\u001b[0;34m\u001b[0m\u001b[0m\n\u001b[0m\u001b[1;32m     31\u001b[0m \u001b[0;31m# Convert predictions classes to one hot vectors\u001b[0m\u001b[0;34m\u001b[0m\u001b[0;34m\u001b[0m\u001b[0;34m\u001b[0m\u001b[0m\n\u001b[1;32m     32\u001b[0m \u001b[0mY_pred_classes\u001b[0m \u001b[0;34m=\u001b[0m \u001b[0mnp\u001b[0m\u001b[0;34m.\u001b[0m\u001b[0margmax\u001b[0m\u001b[0;34m(\u001b[0m\u001b[0mY_pred\u001b[0m\u001b[0;34m,\u001b[0m\u001b[0maxis\u001b[0m \u001b[0;34m=\u001b[0m \u001b[0;36m1\u001b[0m\u001b[0;34m)\u001b[0m\u001b[0;34m\u001b[0m\u001b[0;34m\u001b[0m\u001b[0m\n",
      "\u001b[0;31mNameError\u001b[0m: name 'X_val' is not defined"
     ]
    }
   ],
   "source": [
    "def plot_confusion_matrix(cm, classes,\n",
    "                          normalize=False,\n",
    "                          title='Confusion matrix',\n",
    "                          cmap=plt.cm.Blues):\n",
    "    \"\"\"\n",
    "    This function prints and plots the confusion matrix.\n",
    "    Normalization can be applied by setting `normalize=True`.\n",
    "    \"\"\"\n",
    "    plt.imshow(cm, interpolation='nearest', cmap=cmap)\n",
    "    plt.title(title)\n",
    "    plt.colorbar()\n",
    "    tick_marks = np.arange(len(classes))\n",
    "    plt.xticks(tick_marks, classes, rotation=45)\n",
    "    plt.yticks(tick_marks, classes)\n",
    "\n",
    "    if normalize:\n",
    "        cm = cm.astype('float') / cm.sum(axis=1)[:, np.newaxis]\n",
    "\n",
    "    thresh = cm.max() / 2.\n",
    "    for i, j in itertools.product(range(cm.shape[0]), range(cm.shape[1])):\n",
    "        plt.text(j, i, cm[i, j],\n",
    "                 horizontalalignment=\"center\",\n",
    "                 color=\"white\" if cm[i, j] > thresh else \"black\")\n",
    "\n",
    "    plt.tight_layout()\n",
    "    plt.ylabel('True label')\n",
    "    plt.xlabel('Predicted label')\n",
    "\n",
    "# Predict the values from the validation dataset\n",
    "Y_pred = model.predict(X_val)\n",
    "# Convert predictions classes to one hot vectors \n",
    "Y_pred_classes = np.argmax(Y_pred,axis = 1) \n",
    "# Convert validation observations to one hot vectors\n",
    "Y_true = np.argmax(Y_val,axis = 1) \n",
    "# compute the confusion matrix\n",
    "confusion_mtx = confusion_matrix(Y_true, Y_pred_classes) \n",
    "# plot the confusion matrix\n",
    "plot_confusion_matrix(confusion_mtx, classes = range(10)) "
   ]
  },
  {
   "cell_type": "code",
   "execution_count": 39,
   "metadata": {},
   "outputs": [
    {
     "data": {
      "image/png": "[encoded data removed]",
      "text/plain": [
       "<Figure size 864x576 with 6 Axes>"
      ]
     },
     "metadata": {
      "needs_background": "light"
     },
     "output_type": "display_data"
    }
   ],
   "source": [
    "# Display some error results \n",
    "\n",
    "# Errors are difference between predicted labels and true labels\n",
    "errors = (Y_pred_classes - Y_true != 0)\n",
    "\n",
    "Y_pred_classes_errors = Y_pred_classes[errors]\n",
    "Y_pred_errors = Y_pred[errors]\n",
    "Y_true_errors = Y_true[errors]\n",
    "X_val_errors = X_val[errors]\n",
    "\n",
    "def display_errors(errors_index,img_errors,pred_errors, obs_errors):\n",
    "    \"\"\" This function shows 6 images with their predicted and real labels\"\"\"\n",
    "    n = 0\n",
    "    nrows = 2\n",
    "    ncols = 3\n",
    "    fig, ax = plt.subplots(nrows,ncols,sharex=True,sharey=True,figsize=(12,8))\n",
    "    for row in range(nrows):\n",
    "        for col in range(ncols):\n",
    "            error = errors_index[n]\n",
    "            ax[row,col].imshow((img_errors[error]).reshape((28,28)))\n",
    "            ax[row,col].set_title(\"Predicted label :{}\\nTrue label :{}\".format(pred_errors[error],obs_errors[error]))\n",
    "            n += 1\n",
    "\n",
    "# Probabilities of the wrong predicted numbers\n",
    "Y_pred_errors_prob = np.max(Y_pred_errors,axis = 1)\n",
    "\n",
    "# Predicted probabilities of the true values in the error set\n",
    "true_prob_errors = np.diagonal(np.take(Y_pred_errors, Y_true_errors, axis=1))\n",
    "\n",
    "# Difference between the probability of the predicted label and the true label\n",
    "delta_pred_true_errors = Y_pred_errors_prob - true_prob_errors\n",
    "\n",
    "# Sorted list of the delta prob errors\n",
    "sorted_dela_errors = np.argsort(delta_pred_true_errors)\n",
    "\n",
    "# Top 6 errors \n",
    "most_important_errors = sorted_dela_errors[-6:]\n",
    "\n",
    "# Show the top 6 errors\n",
    "display_errors(most_important_errors, X_val_errors, Y_pred_classes_errors, Y_true_errors)"
   ]
  },
  {
   "cell_type": "code",
   "execution_count": 14,
   "metadata": {},
   "outputs": [],
   "source": [
    "from os.path import isfile, join\n",
    "import os"
   ]
  },
  {
   "cell_type": "code",
   "execution_count": 181,
   "metadata": {},
   "outputs": [
    {
     "name": "stdout",
     "output_type": "stream",
     "text": [
      "529\n",
      "529\n"
     ]
    }
   ],
   "source": [
    "from PIL import Image\n",
    "import glob\n",
    "image_list = []\n",
    "labels = []\n",
    "filenames_list = []\n",
    "for filename in glob.glob('extracted_nums/*.png'): \n",
    "    im=Image.open(filename)\n",
    "    filenames_list.append(filename)\n",
    "    file = filename.split(\"_\")\n",
    "    label = file[2][0]\n",
    "    image_list.append(im)\n",
    "    labels.append(label)\n",
    "    \n",
    "print(len(image_list))\n",
    "print(len(labels))\n"
   ]
  },
  {
   "cell_type": "code",
   "execution_count": 205,
   "metadata": {},
   "outputs": [],
   "source": [
    "correct_classifications = 0\n",
    "classifications_made = 0\n",
    "\n",
    "wrong_classifications = []\n",
    "wrong_labels = []\n",
    "wrong_filenames = []\n",
    "predictions = []\n",
    "labels2 = []\n",
    "actual_labels = []\n",
    "\n",
    "for i in range(len(image_list)):\n",
    "    if labels[i] != \"a\":\n",
    "        img = image_list[i]\n",
    "\n",
    "        img = np.resize(img, (1,28,28,1))\n",
    "        classification = np.argmax(model.predict(img))\n",
    "        classifications_made = classifications_made + 1\n",
    "        predictions.append(int(classification))\n",
    "        labels2.append(int(labels[i]))\n",
    "        if classification == int(labels[i]):\n",
    "            correct_classifications = correct_classifications + 1\n",
    "        else:\n",
    "            wrong_labels.append(classification)\n",
    "            wrong_classifications.append(img.reshape(28,28))\n",
    "            wrong_filenames.append(filenames_list[i])\n",
    "            actual_labels.append(labels[i])\n",
    "            \n",
    "acc = correct_classifications*100/classifications_made"
   ]
  },
  {
   "cell_type": "code",
   "execution_count": 206,
   "metadata": {},
   "outputs": [
    {
     "data": {
      "text/plain": [
       "76.86116700201207"
      ]
     },
     "execution_count": 206,
     "metadata": {},
     "output_type": "execute_result"
    }
   ],
   "source": [
    "acc"
   ]
  },
  {
   "cell_type": "code",
   "execution_count": 213,
   "metadata": {
    "scrolled": false
   },
   "outputs": [
    {
     "name": "stdout",
     "output_type": "stream",
     "text": [
      "Predicted: 5\n",
      "extracted_nums/323_6.png\n"
     ]
    },
    {
     "data": {
      "image/png": "[encoded data removed]",
      "text/plain": [
       "<Figure size 432x288 with 1 Axes>"
      ]
     },
     "metadata": {
      "needs_background": "light"
     },
     "output_type": "display_data"
    },
    {
     "data": {
      "image/png": "[encoded data removed]",
      "text/plain": [
       "<Figure size 864x864 with 9 Axes>"
      ]
     },
     "metadata": {
      "needs_background": "light"
     },
     "output_type": "display_data"
    }
   ],
   "source": [
    "index = 0\n",
    "\n",
    "plt.imshow(wrong_classifications[index])\n",
    "print(\"Predicted: \" + str(wrong_labels[index]))\n",
    "print(wrong_filenames[index])\n",
    "\n",
    "n = 19\n",
    "nrows = 3\n",
    "ncols = 3\n",
    "fig, ax = plt.subplots(nrows,ncols,sharex=True,sharey=True,figsize=(12,12))\n",
    "for row in range(nrows):\n",
    "    for col in range(ncols):\n",
    "        \n",
    "        ax[row,col].imshow(wrong_classifications[n].reshape((28,28)))\n",
    "        \n",
    "        ax[row,col].set_title(\"Predicted label :{}\\nTrue label :{}\".format(wrong_labels[n],actual_labels[n]))\n",
    "        n += 1\n"
   ]
  },
  {
   "cell_type": "code",
   "execution_count": 202,
   "metadata": {},
   "outputs": [
    {
     "data": {
      "image/png": "[encoded data removed]",
      "text/plain": [
       "<Figure size 432x288 with 2 Axes>"
      ]
     },
     "metadata": {
      "needs_background": "light"
     },
     "output_type": "display_data"
    }
   ],
   "source": [
    "confusion_mtx = confusion_matrix(labels2, predictions) \n",
    "# plot the confusion matrix\n",
    "plot_confusion_matrix(confusion_mtx, classes = range(10)) "
   ]
  },
  {
   "cell_type": "markdown",
   "metadata": {},
   "source": []
  },
  {
   "cell_type": "code",
   "execution_count": 203,
   "metadata": {},
   "outputs": [
    {
     "data": {
      "text/plain": [
       "497"
      ]
     },
     "execution_count": 203,
     "metadata": {},
     "output_type": "execute_result"
    }
   ],
   "source": [
    "len(predictions)"
   ]
  },
  {
   "cell_type": "code",
   "execution_count": null,
   "metadata": {},
   "outputs": [],
   "source": []
  }
 ],
 "metadata": {
  "kernelspec": {
   "display_name": "Python 3",
   "language": "python",
   "name": "python3"
  },
  "language_info": {
   "codemirror_mode": {
    "name": "ipython",
    "version": 3
   },
   "file_extension": ".py",
   "mimetype": "text/x-python",
   "name": "python",
   "nbconvert_exporter": "python",
   "pygments_lexer": "ipython3",
   "version": "3.6.7"
  }
 },
 "nbformat": 4,
 "nbformat_minor": 2
}
